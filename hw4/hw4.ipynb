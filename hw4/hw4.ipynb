{
 "cells": [
  {
   "cell_type": "markdown",
   "metadata": {
    "deletable": false,
    "editable": false,
    "nbgrader": {
     "cell_type": "markdown",
     "checksum": "731ec5704c57c18ff0992c32e9dba077",
     "grade": false,
     "grade_id": "cell-82ae56686993b52b",
     "locked": true,
     "schema_version": 3,
     "solution": false,
     "task": false
    }
   },
   "source": [
    "# Homework 4: Neural Networks\n",
    "\n",
    "\n",
    "This assignment is due on Canvas by **11:59pm on May 4**. \n",
    "Your solutions to theoretical questions should be done in Markdown/MathJax directly below the associated question.\n",
    "Your solutions to computational questions should include any specified Python code and results \n",
    "as well as written commentary on your conclusions.\n",
    "Remember that you are encouraged to discuss the problems with your instructors and classmates, \n",
    "but **you must write all code and solutions on your own**. For a refresher on the course **Collaboration Policy** click [here](https://canvas.uchicago.edu/courses/42240/assignments/syllabus).\n",
    "\n",
    "\n",
    "**NOTES**: \n",
    "\n",
    "- Do **NOT** load or use any Python packages that are not available in Anaconda (Version: 2019.07) with Python 3.9. \n",
    "- Some problems with code may be autograded.  If we provide a function API **do not** change it.  If we do not provide a function API then you're free to structure your code however you like. \n",
    "- Submit this Jupyter notebook and a PDF of your ouput to Canvas.  Do not compress it using tar, rar, zip, etc. \n",
    "- In this homework, we will use [PyTorch](https://pytorch.org/) to implement a classifier. Install the current stable release for PyTorch (instructions on homepage of Pytorch website). We recommend you use Anaconda for these installations in a virtual environment but you can use pip as well. For this homework, this command should be sufficient `pip3 install torch`.\n",
    "\n",
    "It is **highly recommended** you install the CPU-only version of PyTorch if your'e unfamiliar with the process of installing CUDA libraries for these packages. If you choose to install a GPU version, ensure you're code runs without GPU support.\n",
    "\n",
    "**Acknowledgment** : Chris Ketelsen"
   ]
  },
  {
   "cell_type": "markdown",
   "metadata": {
    "deletable": false,
    "editable": false,
    "nbgrader": {
     "cell_type": "markdown",
     "checksum": "02b13210d07177ff7bebf871045f85c1",
     "grade": false,
     "grade_id": "cell-c45699879b420760",
     "locked": true,
     "schema_version": 3,
     "solution": false,
     "task": false
    }
   },
   "source": [
    "**Please put your name.**"
   ]
  },
  {
   "cell_type": "markdown",
   "metadata": {},
   "source": [
    "**Name**:"
   ]
  },
  {
   "cell_type": "code",
   "execution_count": null,
   "metadata": {},
   "outputs": [],
   "source": [
    "# Test PyTorch installation\n",
    "import torch \n",
    "import math\n",
    "import pickle\n",
    "import gzip\n",
    "import numpy as np\n",
    "import matplotlib.pylab as plt\n",
    "%matplotlib inline\n",
    "\n",
    "\n",
    "\n",
    "torch.manual_seed(1234)"
   ]
  },
  {
   "cell_type": "markdown",
   "metadata": {
    "deletable": false,
    "editable": false,
    "nbgrader": {
     "cell_type": "markdown",
     "checksum": "2573ab17338326e968d9f2df499f06a7",
     "grade": false,
     "grade_id": "cell-d79b29ab197119c1",
     "locked": true,
     "schema_version": 3,
     "solution": false,
     "task": false
    }
   },
   "source": [
    "[26 points] Problem 1 - Single-Layer and Multilayer Perceptron Learning\n",
    "---\n",
    "\n",
    "### Part 1 [13 points] \n",
    "Consider learning the following concepts with either a single-layer or multilayer perceptron where all hidden and output neurons utilize the *indicator* activation functions. For each of the following concepts, state whether the concept can be learned by a single-layer perceptron. Briefly justify your response by providing weights, biases, and the *indicator* activation functions if applicable:\n",
    "\n",
    "- $\\; \\texttt{NOT } x_1$\n",
    "\n",
    "- $\\; x_1 \\texttt{ NAND } x_2$\n",
    "\n",
    "- $\\; x_1 \\texttt{ XNOR } x_2$ (output 1 when $x_1 = x_2$ and 0 otherwise)"
   ]
  },
  {
   "cell_type": "markdown",
   "metadata": {
    "deletable": false,
    "nbgrader": {
     "cell_type": "markdown",
     "checksum": "dfdc38689f4c5df788943b9f0de15a38",
     "grade": true,
     "grade_id": "cell-5504bb80827fe61b",
     "locked": false,
     "points": 13,
     "schema_version": 3,
     "solution": true
    }
   },
   "source": [
    "YOUR ANSWER HERE"
   ]
  },
  {
   "cell_type": "markdown",
   "metadata": {
    "deletable": false,
    "editable": false,
    "nbgrader": {
     "cell_type": "markdown",
     "checksum": "2be512fcc20306464e48ac46ffb8e227",
     "grade": false,
     "grade_id": "cell-34216deb363900f5",
     "locked": true,
     "schema_version": 3,
     "solution": false,
     "task": false
    }
   },
   "source": [
    "### Part 2 [13 points] \n",
    "\n",
    "Determine an architecture and specific values of the weights and biases in a single-layer or multilayer perceptron with *indicator* activation functions that can learn $x_1 \\texttt{ XNOR } x_2$. Make a truth table of $x_1$, $x_2$, and $x_1 \\texttt{ XNOR } x_2$, describe your perceptron's architecture, and state your weight matrices and bias vectors in Markdown below. Then demonstrate that your solution is correct by implementing forward propagation for your network in Python and showing that it produces the correct boolean output values for each of the four possible combinations of $x_1$ and $x_2$."
   ]
  },
  {
   "cell_type": "markdown",
   "metadata": {
    "deletable": false,
    "nbgrader": {
     "cell_type": "markdown",
     "checksum": "14a2818fdc70d3dd3eb4b39ddd3a107e",
     "grade": true,
     "grade_id": "cell-fd1e475a5ef92def",
     "locked": false,
     "points": 7,
     "schema_version": 3,
     "solution": true
    }
   },
   "source": [
    "YOUR ANSWER HERE"
   ]
  },
  {
   "cell_type": "code",
   "execution_count": null,
   "metadata": {
    "deletable": false,
    "nbgrader": {
     "cell_type": "code",
     "checksum": "34c4ad53eaf363a9e8c040e94bd947a4",
     "grade": true,
     "grade_id": "cell-330996afb5a81650",
     "locked": false,
     "points": 6,
     "schema_version": 3,
     "solution": true
    }
   },
   "outputs": [],
   "source": [
    "# YOUR CODE HERE\n",
    "raise NotImplementedError()"
   ]
  },
  {
   "cell_type": "markdown",
   "metadata": {
    "deletable": false,
    "editable": false,
    "nbgrader": {
     "cell_type": "markdown",
     "checksum": "447f6cd6d9d71ed5fc9d29f8306696a2",
     "grade": false,
     "grade_id": "cell-410d0399fa830fab",
     "locked": true,
     "schema_version": 3,
     "solution": false,
     "task": false
    }
   },
   "source": [
    "[30 points] Problem 2 - Back propagation\n",
    "---\n",
    "\n",
    "In this problem you will gain some intuition about why training deep neural networks can be very time consuming.  Consider training a chain-like neural network: \n",
    "\n",
    "![chain-like nn](figs/chain_net.png)\n",
    "\n",
    "Note that this network has three weights $W^1, W^2, W^3$ and three biases $b^1, b^2,$ and $b^3$ (for this problem you can think of each parameter as a single value or as a $1 \\times 1$ matrix). Suppose that each hidden and output neuron is equipped with a sigmoid activation function and the loss function is given by \n",
    "\n",
    "$$\n",
    "\\ell(y, a^3) = \\frac{1}{2}(y - a^3)^2  \n",
    "$$\n",
    "\n",
    "where $a^3$ is the value of the activation at the output neuron and $y \\in \\{0,1\\}$ is the true label associated with the training example.  \n",
    "\n",
    "**Note**: Superscripts on $W$'s, $b$'s, and $a$'a are being used as indices and not powers here (e.g. $a^3$ indicates the 3rd activation value, not the activation value $a$ to the 3rd power.)"
   ]
  },
  {
   "cell_type": "markdown",
   "metadata": {
    "deletable": false,
    "editable": false,
    "nbgrader": {
     "cell_type": "markdown",
     "checksum": "c8c9f47b89404edf8e682707be900291",
     "grade": false,
     "grade_id": "cell-4337ff6b53b1760a",
     "locked": true,
     "schema_version": 3,
     "solution": false,
     "task": false
    }
   },
   "source": [
    "### Part 1 [5 points]\n",
    "Suppose each of the weights is initialized to $W^k = 1.0$ and each bias is initialized to $b^k = -0.5$.  Use forward propagation to find the activities and activations associated with each hidden and output neuron for the training example $(x, y) = (0.5,0)$. Show your work. "
   ]
  },
  {
   "cell_type": "markdown",
   "metadata": {
    "deletable": false,
    "nbgrader": {
     "cell_type": "markdown",
     "checksum": "5ed8ae08caeac509ef436f5d18c8223c",
     "grade": true,
     "grade_id": "cell-6512c42fc5e9ce1b",
     "locked": false,
     "points": 5,
     "schema_version": 3,
     "solution": true,
     "task": false
    },
    "tags": []
   },
   "source": [
    "YOUR ANSWER HERE"
   ]
  },
  {
   "cell_type": "markdown",
   "metadata": {
    "deletable": false,
    "editable": false,
    "nbgrader": {
     "cell_type": "markdown",
     "checksum": "b99a2b3244913c9804b9de283a134248",
     "grade": false,
     "grade_id": "cell-77928f9f19f6876f",
     "locked": true,
     "schema_version": 3,
     "solution": false,
     "task": false
    }
   },
   "source": [
    "### Part 2 [8 points]:\n",
    "Use Back-Propagation to compute the weight and bias derivatives $\\partial \\ell / \\partial W^k$ and $\\partial \\ell / \\partial b^k$ for $k=1, 2, 3$.  Show all work. "
   ]
  },
  {
   "cell_type": "markdown",
   "metadata": {
    "deletable": false,
    "nbgrader": {
     "cell_type": "markdown",
     "checksum": "dd6dbad893ed977cd9de318e414b9e17",
     "grade": true,
     "grade_id": "cell-6a3b895fa888e925",
     "locked": false,
     "points": 8,
     "schema_version": 3,
     "solution": true
    }
   },
   "source": [
    "YOUR ANSWER HERE"
   ]
  },
  {
   "cell_type": "markdown",
   "metadata": {
    "deletable": false,
    "editable": false,
    "nbgrader": {
     "cell_type": "markdown",
     "checksum": "24bed5e010b0e1deb9ab0c257703b171",
     "grade": false,
     "grade_id": "cell-161b07ac7c31e3c3",
     "locked": true,
     "schema_version": 3,
     "solution": false,
     "task": false
    }
   },
   "source": [
    "### Part 3 [5 points]\n",
    "Implement the following activation functions in NumPy:\n",
    "* ReLU\n",
    "* Sigmoid\n",
    "* softmax\n",
    "\n",
    "Please **do not use any other external libraries** for this such as sklearn.\n",
    "\n",
    "**Note**: Assume the input `x` is a 1-dimensional numpy array with $n$ entries (i.e. `x.shape` is `(n,)`). The expected output is an array with the same shape."
   ]
  },
  {
   "cell_type": "code",
   "execution_count": null,
   "metadata": {
    "deletable": false,
    "nbgrader": {
     "cell_type": "code",
     "checksum": "c3095d722bd4a8f2fdf5aaca330d63aa",
     "grade": false,
     "grade_id": "cell-3b7e3adaffe2c2ee",
     "locked": false,
     "schema_version": 3,
     "solution": true
    }
   },
   "outputs": [],
   "source": [
    "def relu(x):\n",
    "    # YOUR CODE HERE\n",
    "    raise NotImplementedError()\n",
    "\n",
    "def sigmoid(x):\n",
    "    # YOUR CODE HERE\n",
    "    raise NotImplementedError()\n",
    "\n",
    "def softmax(x):\n",
    "    # YOUR CODE HERE\n",
    "    raise NotImplementedError()"
   ]
  },
  {
   "cell_type": "code",
   "execution_count": null,
   "metadata": {
    "deletable": false,
    "editable": false,
    "nbgrader": {
     "cell_type": "code",
     "checksum": "a8ff3566873a584f28b89bd21c0689e6",
     "grade": true,
     "grade_id": "cell-0bded3752d3226b9",
     "locked": true,
     "points": 5,
     "schema_version": 3,
     "solution": false,
     "task": false
    },
    "tags": []
   },
   "outputs": [],
   "source": [
    "# random tests for checking your impementation.\n",
    "from tests import tests\n",
    "tests.run_test_suite('prob 2.3', (relu, sigmoid, softmax))"
   ]
  },
  {
   "cell_type": "markdown",
   "metadata": {
    "deletable": false,
    "editable": false,
    "nbgrader": {
     "cell_type": "markdown",
     "checksum": "190b90c03addc8236ddfed594df89e1a",
     "grade": false,
     "grade_id": "cell-f97c1b3bf8c79803",
     "locked": true,
     "schema_version": 3,
     "solution": false,
     "task": false
    }
   },
   "source": [
    "### Part 4 [6 points] \n",
    "Implement the following Loss functions in NumPy:\n",
    "* mean squared error\n",
    "* mean absolute error\n",
    "* hinge\n",
    "\n",
    "Please **do not use any other external libraries** for this such as sklearn.\n",
    "\n",
    "**Note**: Assume that the inputs `y` and `yhat` are both 1-dimensional numpy arrays with $n$ entries. The expected output is a float."
   ]
  },
  {
   "cell_type": "code",
   "execution_count": null,
   "metadata": {
    "deletable": false,
    "nbgrader": {
     "cell_type": "code",
     "checksum": "82e56ad803e5c2c632c83373c33c163e",
     "grade": false,
     "grade_id": "cell-84456d343bfeca31",
     "locked": false,
     "schema_version": 3,
     "solution": true
    }
   },
   "outputs": [],
   "source": [
    "def mean_squared_error(yhat, y):\n",
    "    # YOUR CODE HERE\n",
    "    raise NotImplementedError()\n",
    "    \n",
    "def mean_absolute_error(yhat, y):\n",
    "    # YOUR CODE HERE\n",
    "    raise NotImplementedError()\n",
    "\n",
    "def hinge(yhat, y):\n",
    "    # YOUR CODE HERE\n",
    "    raise NotImplementedError()"
   ]
  },
  {
   "cell_type": "code",
   "execution_count": null,
   "metadata": {
    "deletable": false,
    "editable": false,
    "nbgrader": {
     "cell_type": "code",
     "checksum": "f8e86049691327539e29077deb473f4b",
     "grade": true,
     "grade_id": "cell-550e920d814cb6d3",
     "locked": true,
     "points": 6,
     "schema_version": 3,
     "solution": false
    }
   },
   "outputs": [],
   "source": [
    "# random tests for checking your impementation.\n",
    "from tests import tests\n",
    "tests.run_test_suite('prob 2.4', (mean_squared_error, mean_absolute_error, hinge))"
   ]
  },
  {
   "cell_type": "markdown",
   "metadata": {
    "deletable": false,
    "editable": false,
    "nbgrader": {
     "cell_type": "markdown",
     "checksum": "8337d50de1028a199305f9eae023031b",
     "grade": false,
     "grade_id": "cell-e4c6962049a18e97",
     "locked": true,
     "schema_version": 3,
     "solution": false,
     "task": false
    }
   },
   "source": [
    "### Part 5 [6 points]\n",
    "Explain the vanishing gradient problem. When would you observe this? Give an example."
   ]
  },
  {
   "cell_type": "markdown",
   "metadata": {
    "deletable": false,
    "nbgrader": {
     "cell_type": "markdown",
     "checksum": "4badaeda2b1c32f3d0f79964d3ed4bf5",
     "grade": true,
     "grade_id": "cell-59ccf91056b5d8bb",
     "locked": false,
     "points": 6,
     "schema_version": 3,
     "solution": true
    }
   },
   "source": [
    "YOUR ANSWER HERE"
   ]
  },
  {
   "cell_type": "markdown",
   "metadata": {
    "deletable": false,
    "editable": false,
    "nbgrader": {
     "cell_type": "markdown",
     "checksum": "e41abddda3d3505897546da7f9366fe4",
     "grade": false,
     "grade_id": "cell-85519893ca971e10",
     "locked": true,
     "schema_version": 3,
     "solution": false,
     "task": false
    }
   },
   "source": [
    "[30 Points] Problem 3 - Build a feedforward neural network in NumPy\n",
    "---\n",
    "\n",
    "In this problem you will implement a class representing a general feed-forward neural network that utilizes the sigmoid activation functions. Your tasks will be to implement forward propagation, prediction, back propagation, and a general train routine to learn the weights in your network via stochastic gradient descent.\n",
    "\n",
    "The skeleton for the network class is below."
   ]
  },
  {
   "cell_type": "code",
   "execution_count": null,
   "metadata": {
    "deletable": false,
    "nbgrader": {
     "cell_type": "code",
     "checksum": "61fd73a93a943091261407a2d39b76d7",
     "grade": false,
     "grade_id": "cell-b8abc0ac570aac74",
     "locked": false,
     "schema_version": 3,
     "solution": true
    }
   },
   "outputs": [],
   "source": [
    "import argparse\n",
    "import numpy as np\n",
    "import pickle\n",
    "import gzip\n",
    "import matplotlib.pyplot as plt\n",
    "\n",
    "\n",
    "class Network:\n",
    "    def __init__(self, sizes):\n",
    "        self.L = len(sizes)\n",
    "        self.sizes = sizes\n",
    "        self.biases = [np.random.randn(n, 1) for n in self.sizes[1:]]\n",
    "        self.weights = [np.random.randn(n, m) for (\n",
    "            m, n) in zip(self.sizes[:-1], self.sizes[1:])]\n",
    "        self.acc_train_array = []\n",
    "        self.acc_test_array = []\n",
    "\n",
    "    def g(self, z):\n",
    "        \"\"\"\n",
    "        activation function\n",
    "        \"\"\"\n",
    "        return sigmoid(z)\n",
    "\n",
    "    def g_prime(self, z):\n",
    "        \"\"\"\n",
    "        derivative of activation function\n",
    "        \"\"\"\n",
    "        return sigmoid_prime(z)\n",
    "\n",
    "    def forward_prop(self, a):\n",
    "        \"\"\"\n",
    "        memory aware forward propagation for testing\n",
    "        only.  back_prop implements its own forward_prop\n",
    "        should take in weights and biases and return output value\n",
    "        \"\"\"\n",
    "        # YOUR CODE HERE\n",
    "        raise NotImplementedError()\n",
    "\n",
    "    def grad_cost(self, a, y):\n",
    "        \"\"\"\n",
    "        gradient of cost function\n",
    "        Assumes C(a,y) = (a-y)^2/2\n",
    "        \"\"\"\n",
    "        return (a - y)\n",
    "    \n",
    "    def log_train_progress(self, train, test, epoch):\n",
    "        \"\"\" Logs training progres. \n",
    "        \"\"\"\n",
    "        acc_train = self.evaluate(train)\n",
    "        self.acc_train_array.append(acc_train)\n",
    "        if test is not None:\n",
    "            acc_test = self.evaluate(test)\n",
    "            self.acc_test_array.append(acc_test)\n",
    "            print(\"Epoch {:4d}: Train {:10.5f}, Test {:10.5f}\".format(\n",
    "                epoch+1, acc_train, acc_test))\n",
    "        else:\n",
    "            print(\"Epoch {:4d}: Train {:10.5f}\".format(\n",
    "                epoch+1, acc_train))\n",
    "            \n",
    "\n",
    "    def SGD_train(self, train, epochs, eta, lam=0.0, verbose=True, test=None):\n",
    "        \"\"\"\n",
    "        SGD for training parameters\n",
    "        epochs is the number of epocs to run\n",
    "        eta is the learning rate\n",
    "        lam is the regularization parameter\n",
    "        If verbose is set will print progressive accuracy updates\n",
    "        If test set is provided, routine will print accuracy on test set as learning evolves\n",
    "        \"\"\"\n",
    "        n_train = len(train)\n",
    "        for epoch in range(epochs):\n",
    "            perm = np.random.permutation(n_train)\n",
    "            for kk in range(n_train):\n",
    "                self.SGD_step(*train[perm[kk]], eta, lam)\n",
    "            if verbose and epoch == 0 or (epoch + 1) % 20 == 0:\n",
    "                self.log_train_progress(train, test, epoch)\n",
    "    \n",
    "    def SGD_step(self, x, y, eta, lam):\n",
    "        \"\"\"\n",
    "        TODO: get gradients with x, y and do SGD on weights and biases\n",
    "\n",
    "        Args:\n",
    "            x: single sample features.\n",
    "            y: single sample target.\n",
    "            eta: learning rate.\n",
    "            lam: Regularization parameter.\n",
    "                \n",
    "        \"\"\"\n",
    "        # TODO: get gradients with xk, yk and do SGD on and update weights and biases\n",
    "        # YOUR CODE HERE\n",
    "        raise NotImplementedError()\n",
    "\n",
    "    def back_prop(self, x, y):\n",
    "        \"\"\"\n",
    "        Back propagation for derivatives of C wrt parameters\n",
    "        \"\"\"\n",
    "        db_list = [np.zeros(b.shape) for b in self.biases]\n",
    "        dW_list = [np.zeros(W.shape) for W in self.weights]\n",
    "        \n",
    "        a = x\n",
    "        a_list = [a]\n",
    "        z_list = [np.zeros(a.shape)]  # Pad with a placeholder so that indices match\n",
    "\n",
    "        for W, b in zip(self.weights, self.biases):\n",
    "            z = np.dot(W, a) + b\n",
    "            z_list.append(z)\n",
    "            a = self.g(z)\n",
    "            a_list.append(a)\n",
    "\n",
    "        # Back propagate deltas to compute derivatives\n",
    "        # The following list gives hints on how to do it\n",
    "        # calculating delta (Error) for the output layer\n",
    "        # for the appropriate layers compute db_list[ell], dW_list[ell], delta\n",
    "        # use functions above for your solution\n",
    "\n",
    "        # YOUR CODE HERE\n",
    "        raise NotImplementedError()\n",
    "        return (dW_list, db_list)\n",
    "    \n",
    "\n",
    "    def evaluate(self, test):\n",
    "        \"\"\"\n",
    "        Evaluate current model on labeled test data\n",
    "        \"\"\"\n",
    "        ctr = 0\n",
    "        for x, y in test:\n",
    "            yhat = self.forward_prop(x)\n",
    "            ctr += yhat.argmax() == y.argmax()\n",
    "        return float(ctr) / float(len(test))\n",
    "\n",
    "\n",
    "def sigmoid(z, threshold=20):\n",
    "    z = np.clip(z, -threshold, threshold)\n",
    "    return 1.0 / (1.0 + np.exp(-z))\n",
    "\n",
    "\n",
    "def sigmoid_prime(z):\n",
    "    return sigmoid(z) * (1.0 - sigmoid(z))\n",
    "\n",
    "\n",
    "def mnist_digit_show(flatimage, outname=None):\n",
    "\n",
    "    import matplotlib.pyplot as plt\n",
    "\n",
    "    image = np.reshape(flatimage, (-1, 14))\n",
    "\n",
    "    plt.matshow(image, cmap=plt.cm.binary)\n",
    "    plt.xticks([])\n",
    "    plt.yticks([])\n",
    "    if outname:\n",
    "        plt.savefig(outname)\n",
    "    else:\n",
    "        plt.show()"
   ]
  },
  {
   "cell_type": "markdown",
   "metadata": {
    "deletable": false,
    "editable": false,
    "nbgrader": {
     "cell_type": "markdown",
     "checksum": "df752a10897fda50f7480c89b05d113b",
     "grade": false,
     "grade_id": "cell-7eed131bbb859104",
     "locked": true,
     "schema_version": 3,
     "solution": false,
     "task": false
    }
   },
   "source": [
    "### Part 1 [20 points]\n",
    "Implement `SGD_step`, `back_prop`, and `forward_prop`. Use the following test cases to verify if the code is working as expected."
   ]
  },
  {
   "cell_type": "code",
   "execution_count": null,
   "metadata": {
    "deletable": false,
    "editable": false,
    "nbgrader": {
     "cell_type": "code",
     "checksum": "e083a8e163ca2c45c7731a8cf6f60ac2",
     "grade": true,
     "grade_id": "cell-7632a78793a2588e",
     "locked": true,
     "points": 20,
     "schema_version": 3,
     "solution": false
    }
   },
   "outputs": [],
   "source": [
    "from tests import tests\n",
    "tests.run_test_suite('prob 3', Network)"
   ]
  },
  {
   "cell_type": "markdown",
   "metadata": {
    "deletable": false,
    "editable": false,
    "nbgrader": {
     "cell_type": "markdown",
     "checksum": "780991ea3be1b0006a17caeaf9f32e7e",
     "grade": false,
     "grade_id": "cell-3a21b0c7d363da0d",
     "locked": true,
     "schema_version": 3,
     "solution": false,
     "task": false
    }
   },
   "source": [
    "### Part 2 [10 points]\n",
    "\n",
    "Run the above Network on MNIST Dataset and report the following (feel free to experiment with different learning rates).\n",
    "\n",
    "* Change the hidden layer dimensions and experiment with these values: [5, 10, 20].\n",
    "* Plot accuracies of different hidden layer dimensions vs. epochs for both training and testing.\n",
    "* Explain the effect of hidden layer dimension on performance. \n",
    "\n",
    "**Note:** Accuracies are stored in `self.acc_train_array` and `self.acc_test_array` if `verbose` is `True`."
   ]
  },
  {
   "cell_type": "code",
   "execution_count": null,
   "metadata": {},
   "outputs": [],
   "source": [
    "location = './data/tinyMNIST.pkl.gz'\n",
    "f = gzip.open(location, 'rb')\n",
    "u = pickle._Unpickler(f)\n",
    "u.encoding = 'latin1'\n",
    "train, test = u.load()\n",
    "input_dimensions = len(train[0][0])\n",
    "output_dimensions = len(train[0][1])\n",
    "print('Number of Input Features: ', input_dimensions)\n",
    "print('Number of Output classes: ', output_dimensions)\n",
    "\n",
    "nns = []\n",
    "for hidden_layer_dimensions in [5, 10, 20]:\n",
    "    print('\\nHidden Layer Dimensions: ', hidden_layer_dimensions)\n",
    "    nn = Network([input_dimensions, hidden_layer_dimensions, output_dimensions])\n",
    "    nns.append(nn)\n",
    "    nn.SGD_train(train, epochs=200, eta=0.1, lam=0.0001, verbose=True, test=test)"
   ]
  },
  {
   "cell_type": "markdown",
   "metadata": {
    "deletable": false,
    "editable": false,
    "nbgrader": {
     "cell_type": "markdown",
     "checksum": "5f1157f54f01c113c5d44e6d59a8ae39",
     "grade": false,
     "grade_id": "cell-3a4d12fce7f9f7c0",
     "locked": true,
     "schema_version": 3,
     "solution": false,
     "task": false
    }
   },
   "source": [
    "Plot training and testing accuracies below for each configuration. Use solid lines for testing accuracy, and dotted lines for train accuracy (`ls='dashed'`). \n",
    "\n",
    "Be sure to label your lines and match colors accordingly."
   ]
  },
  {
   "cell_type": "code",
   "execution_count": null,
   "metadata": {
    "deletable": false,
    "nbgrader": {
     "cell_type": "code",
     "checksum": "210f7afe0af853651b6f0d659016f871",
     "grade": true,
     "grade_id": "cell-5e86a6c1f3a99b62",
     "locked": false,
     "points": 5,
     "schema_version": 3,
     "solution": true,
     "task": false
    }
   },
   "outputs": [],
   "source": [
    "fig, ax = plt.subplots(nrows=1, ncols=1, figsize=(20,10))\n",
    "epochs_array = [i for i in range(1, 220, 20)]\n",
    "\n",
    "# YOUR CODE HERE\n",
    "raise NotImplementedError()\n",
    "\n",
    "\n",
    "# YOUR CODE HERE\n",
    "raise NotImplementedError()\n",
    "\n",
    "ax.legend(loc=\"lower right\", fontsize=16)\n",
    "ax.set_xlabel(\"epochs\", fontsize=16)\n",
    "ax.set_ylabel(\"accuracy\", fontsize=16)\n",
    "plt.show()"
   ]
  },
  {
   "cell_type": "markdown",
   "metadata": {
    "deletable": false,
    "editable": false,
    "nbgrader": {
     "cell_type": "markdown",
     "checksum": "9cdbb2067c8b35fc50d7701498c5a636",
     "grade": false,
     "grade_id": "cell-ce9008bef635107d",
     "locked": true,
     "schema_version": 3,
     "solution": false,
     "task": false
    }
   },
   "source": [
    "Give your explanation below."
   ]
  },
  {
   "cell_type": "markdown",
   "metadata": {
    "deletable": false,
    "nbgrader": {
     "cell_type": "markdown",
     "checksum": "dd36ca1bb36eb7f7132e0538a571aac0",
     "grade": true,
     "grade_id": "cell-fb5c5d0fd9a6d900",
     "locked": false,
     "points": 5,
     "schema_version": 3,
     "solution": true,
     "task": false
    }
   },
   "source": [
    "YOUR ANSWER HERE"
   ]
  },
  {
   "cell_type": "markdown",
   "metadata": {
    "deletable": false,
    "editable": false,
    "nbgrader": {
     "cell_type": "markdown",
     "checksum": "63d4176202237dbc9be3c161712f77ae",
     "grade": false,
     "grade_id": "cell-65d25b85ad55bfe6",
     "locked": true,
     "schema_version": 3,
     "solution": false,
     "task": false
    }
   },
   "source": [
    "## [14 points] Problem 4 - Tensors and Autograd.\n",
    "In this problem, we will demonstrate the benefits of PyTorch's Autograd mechanics by converting your implementation from Problem 3 to utilize PyTorch Tensors. This problem is not meant to be difficult, rather it should be quite simple once you've done Problem 3.\n",
    "\n",
    "Note that there are *better* ways to go about this which we will cover next. Here. we are keeping things as close to numpy as possible on purpose to show what's going on behind the scenes. Take a moment to look through our modifications to get an understanding of the differences. In the comments, we'll make notes of native torch functions that perform the same operations. \n",
    "\n",
    "Here, SGD is implemented manually to show you what's going on behind the scenes, but  usually you'd use [`torch.optim.SGD`](https://pytorch.org/docs/stable/optim.html#torch.optim.SGD). For future reference, the `weight_decay` parameter implements L2 normalization. \n",
    "\n",
    "--- \n",
    "\n",
    "Before we move forward, let's cover a couple of points on notation. \n",
    "\n",
    "Just as it's best practice to do `import numpy as np`, PyTorch has best practices for imports as well:\n",
    "\n",
    "```python\n",
    "import torch \n",
    "import torch.nn as nn\n",
    "import torch.nn.functional as F\n",
    "```\n",
    "You'll find that many of the functions you've been learning in NumPy have direct translations in PyTorch. The documentation can be found [here](https://pytorch.org/docs/stable/index.html) and is very user friendly, but we'll cover a few notable differences. \n",
    "\n",
    "- The numpy parameter `axis` becomes `dim` in PyTorch.\n",
    "- Tensors have [view](https://pytorch.org/docs/stable/tensor_view.html) operations, which avoid copying data unnecasarily. Use these instead of `reshape()`. \n",
    "- Using `torch.from_numpy()` also avoids copying data stored in `numpy` arrays.\n",
    "- Numpy interprets `np.dot()` of 2D matrices as matrix multiplication. Pytorch does not have this behaviour, see instead [`torch.matmul()`](https://pytorch.org/docs/stable/generated/torch.matmul.html?highlight=matmul#torch.matmul)\n",
    "- PyTorch uses trailing underscores such as `torch.add_()` to denote in-place operations. As an example, the following operations are equivilent:\n",
    "```python\n",
    "x = x + y\n",
    "x = torch.add(x, y)\n",
    "x.add_(y)\n",
    "```\n",
    "You're likely to see these operations when randomly initializing Tensors, or filling a tensor with zeros:\n",
    "```python\n",
    "torch.nn.init.uniform_(x)\n",
    "x.zero_()\n",
    "```\n",
    "\n",
    "---\n",
    "Now onto the problem, your tasks are as follows:\n",
    "\n",
    "1. Modify `forward_prop` to work on PyTorch Tensors.\n",
    "2. Modify `SGD_step` to work on PyTorch Tensors. This is easier than it sounds, since with PyTorch we don't have to worry about calculating gradients manually."
   ]
  },
  {
   "cell_type": "code",
   "execution_count": null,
   "metadata": {
    "deletable": false,
    "nbgrader": {
     "cell_type": "code",
     "checksum": "094d28d461ce1b8f522ade5687aa23ed",
     "grade": false,
     "grade_id": "cell-f503b4357e8d35fc",
     "locked": false,
     "schema_version": 3,
     "solution": true,
     "task": false
    }
   },
   "outputs": [],
   "source": [
    "import torch\n",
    "\n",
    "\n",
    "class TorchNetwork(Network):\n",
    "    def __init__(self, sizes, keep_prob=-1):\n",
    "        super().__init__(sizes)\n",
    "        \n",
    "        # Convert your weights and biases to Tensors.\n",
    "        # The flag requires_grad=True tells PyTorch to track gradients for us. \n",
    "        self.biases = [torch.tensor(b, requires_grad=True) for b in self.biases]\n",
    "        self.weights = [torch.tensor(w, requires_grad=True) for w in self.weights]\n",
    "        \n",
    "\n",
    "    def g(self, z):\n",
    "        \"\"\" Activation function\n",
    "            Could also use torch.sigmoid(z)\n",
    "        \"\"\"\n",
    "        return sigmoid_torch(z) \n",
    "\n",
    "    def forward_prop(self, a):\n",
    "        \"\"\" Memory aware forward propagation. \n",
    "            Now this is for both training and testing.\n",
    "        \n",
    "        \"\"\"\n",
    "        # TODO: Convert your forward_prop function from part a to work on Tensors. \n",
    "        # YOUR CODE HERE\n",
    "        raise NotImplementedError()\n",
    "\n",
    "    def cost(self, a, y):\n",
    "        \"\"\" Cost function, same as F.mse_loss()\n",
    "        \"\"\"\n",
    "        return ((a - y)**2).mean() \n",
    "            \n",
    "\n",
    "    def SGD_step(self, x, y, eta, lam):\n",
    "        \"\"\"\n",
    "            Performs a single step of SGD on weights and biases\n",
    "\n",
    "        Args:\n",
    "            x: single sample features.\n",
    "            y: single sample target.\n",
    "            eta: learning rate.\n",
    "            lam: Regularization parameter.\n",
    "                \n",
    "        \"\"\"\n",
    "        \n",
    "        # Zero out the old gradients if they exist. \n",
    "        # Would be optim.zero_grad() if we were using an optimizer.\n",
    "        for p in (*self.weights, *self.biases):\n",
    "            if p.grad is not None:\n",
    "                p.grad.detach_()\n",
    "                p.grad.zero_()\n",
    "            \n",
    "        # TODO: \n",
    "        # (1) call forward_prop to get a. \n",
    "        # (2) Calucate loss using the cost function.\n",
    "        # (3) Use loss.backward() to to perform backpropagation automatically.\n",
    "\n",
    "        # YOUR CODE HERE\n",
    "        raise NotImplementedError()\n",
    "\n",
    "        # Perform sgd update \n",
    "        # Would be optimizer.step()\n",
    "        with torch.no_grad():\n",
    "            # l2 regularization on weights only.\n",
    "            for p in self.weights:\n",
    "                p.grad.add_(p, alpha=lam)\n",
    "            # sgd update. \n",
    "            for p in (*self.weights, *self.biases):\n",
    "                p.add_(p.grad, alpha=-eta)\n",
    "                \n",
    "\n",
    "def sigmoid_torch(z, threshold=20):\n",
    "    \"\"\" Same as sigmoid before, now with torch.clamp() instead of np.clip().\n",
    "        We could also just use torch.sigmoid().\n",
    "    \"\"\"\n",
    "    z = torch.clamp(z, -threshold, threshold)\n",
    "    return 1.0 / (1.0 + torch.exp(-z))\n"
   ]
  },
  {
   "cell_type": "markdown",
   "metadata": {
    "deletable": false,
    "editable": false,
    "nbgrader": {
     "cell_type": "markdown",
     "checksum": "66be78ccf7c4e1c78e4ab8df46134c5f",
     "grade": false,
     "grade_id": "cell-6227665a74ae9306",
     "locked": true,
     "schema_version": 3,
     "solution": false,
     "task": false
    }
   },
   "source": [
    "**Part 1 [14 points]:** Implement `SGD_step` and `forward_prop`. Use the following test cases to verify if the code is working as expected."
   ]
  },
  {
   "cell_type": "code",
   "execution_count": null,
   "metadata": {
    "deletable": false,
    "editable": false,
    "nbgrader": {
     "cell_type": "code",
     "checksum": "4e1a3de4ccd02bd060ae265459943095",
     "grade": true,
     "grade_id": "cell-9b1a944152b5097c",
     "locked": true,
     "points": 14,
     "schema_version": 3,
     "solution": false,
     "task": false
    }
   },
   "outputs": [],
   "source": [
    "from tests import tests\n",
    "tests.run_test_suite('new prob 4', TorchNetwork)\n",
    "torch. __version__"
   ]
  },
  {
   "cell_type": "markdown",
   "metadata": {},
   "source": [
    "### Optional survey.\n",
    "***\n",
    "\n",
    "We are always interested in your feedback. At the end of each homework, there is a simple anonymous feedback [survey](https://docs.google.com/forms/d/e/1FAIpQLSdA-gcWAUhimz3ecBL0ULcGRc3Vq6uddNNteliC4B-HiVfQIA/viewform) to solicit your feedback for how to improve the course."
   ]
  },
  {
   "cell_type": "code",
   "execution_count": null,
   "metadata": {},
   "outputs": [],
   "source": []
  }
 ],
 "metadata": {
  "kernelspec": {
   "display_name": "Python 3 (ipykernel)",
   "language": "python",
   "name": "python3"
  },
  "language_info": {
   "codemirror_mode": {
    "name": "ipython",
    "version": 3
   },
   "file_extension": ".py",
   "mimetype": "text/x-python",
   "name": "python",
   "nbconvert_exporter": "python",
   "pygments_lexer": "ipython3",
   "version": "3.9.16"
  },
  "toc": {
   "base_numbering": 1,
   "nav_menu": {},
   "number_sections": false,
   "sideBar": true,
   "skip_h1_title": true,
   "title_cell": "Table of Contents",
   "title_sidebar": "Contents",
   "toc_cell": false,
   "toc_position": {
    "height": "calc(100% - 180px)",
    "left": "10px",
    "top": "150px",
    "width": "340px"
   },
   "toc_section_display": true,
   "toc_window_display": true
  }
 },
 "nbformat": 4,
 "nbformat_minor": 4
}
